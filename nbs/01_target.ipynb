{
 "cells": [
  {
   "cell_type": "markdown",
   "metadata": {},
   "source": [
    "# Target Lesion\n",
    "\n",
    "> Class for Target Lesion"
   ]
  },
  {
   "cell_type": "code",
   "execution_count": null,
   "metadata": {},
   "outputs": [],
   "source": [
    "#| default_exp target"
   ]
  },
  {
   "cell_type": "code",
   "execution_count": null,
   "metadata": {},
   "outputs": [],
   "source": [
    "#| hide\n",
    "from nbdev.showdoc import *"
   ]
  },
  {
   "cell_type": "code",
   "execution_count": null,
   "metadata": {},
   "outputs": [],
   "source": [
    "#| export\n",
    "from dataclasses import dataclass, field"
   ]
  },
  {
   "cell_type": "markdown",
   "metadata": {},
   "source": [
    "## `RecistTarget` DataClass"
   ]
  },
  {
   "cell_type": "markdown",
   "metadata": {},
   "source": [
    "### Definition"
   ]
  },
  {
   "cell_type": "code",
   "execution_count": null,
   "metadata": {},
   "outputs": [],
   "source": [
    "#| export\n",
    "@dataclass\n",
    "class RecistTarget:\n",
    "    \"\"\"\n",
    "    This class represents the RECIST (Response Evaluation Criteria in Solid Tumors) evaluation \n",
    "    for target lesions at a specific time point.\n",
    "    \"\"\"\n",
    "    category: str = field(init=False)\n",
    "    current_mm: float = None\n",
    "    baseline_mm: float = None\n",
    "    baseline_pc_change: float = field(init=False, default=None)\n",
    "    nadir_mm: float = None\n",
    "    nadir_pc_change: float = field(init=False, default=None)\n",
    "    is_new_lesion: bool = None\n",
    "    is_ln_pathological: bool = None\n",
    "    \n",
    "    def __post_init__(self):\n",
    "        # If Nadir is not provided, it equals to baseline \n",
    "        if self.nadir_mm is None:\n",
    "            self.nadir_mm = self.baseline_mm\n",
    "            \n",
    "        # Check for \"Not Evaluable\" (NE) condition\n",
    "        if self.current_mm is None or self.baseline_mm is None:\n",
    "            self.category = \"NE\"\n",
    "            return\n",
    "        \n",
    "        # Calculate % Changes from Nadir and Baseline\n",
    "        if (self.current_mm is not None) and (self.baseline_mm is not None):\n",
    "            self.nadir_pc_change = ((self.current_mm - self.nadir_mm) / self.nadir_mm) * 100    \n",
    "            self.baseline_pc_change = ((self.current_mm - self.baseline_mm) / self.baseline_mm) * 100   \n",
    "        \n",
    "        # PD\n",
    "        if (self.nadir_pc_change >= 20 and self.current_mm - self.nadir_mm >= 5) or (self.is_new_lesion == True):\n",
    "            self.category = \"PD\"\n",
    "        # CR\n",
    "        elif self.current_mm == 0 and (not self.is_ln_pathological):\n",
    "            self.category = \"CR\"\n",
    "        # PR\n",
    "        elif self.baseline_pc_change <= -30:\n",
    "            self.category = \"PR\"\n",
    "        # SD\n",
    "        else:\n",
    "            self.category = \"SD\"\n"
   ]
  },
  {
   "cell_type": "markdown",
   "metadata": {},
   "source": [
    "## Example"
   ]
  },
  {
   "cell_type": "markdown",
   "metadata": {},
   "source": [
    "### PD"
   ]
  },
  {
   "cell_type": "code",
   "execution_count": null,
   "metadata": {},
   "outputs": [
    {
     "name": "stdout",
     "output_type": "stream",
     "text": [
      "RecistTarget(category='PD', current_mm=40, baseline_mm=30, baseline_pc_change=33.33333333333333, nadir_mm=30, nadir_pc_change=33.33333333333333, is_new_lesion=False, is_ln_pathological=None)\n",
      "RecistTarget(category='PD', current_mm=10, baseline_mm=2, baseline_pc_change=400.0, nadir_mm=1, nadir_pc_change=900.0, is_new_lesion=True, is_ln_pathological=None)\n"
     ]
    }
   ],
   "source": [
    "target1 = RecistTarget(\n",
    "    current_mm=40,\n",
    "    baseline_mm=30,\n",
    "    nadir_mm=30,\n",
    "    is_new_lesion=False\n",
    ")\n",
    "print(target1) \n",
    "\n",
    "\n",
    "target2 = RecistTarget(\n",
    "    current_mm=10,\n",
    "    baseline_mm=2,\n",
    "    nadir_mm=1,\n",
    "    is_new_lesion=True\n",
    ")\n",
    "print(target2) "
   ]
  },
  {
   "cell_type": "markdown",
   "metadata": {},
   "source": [
    "### CR"
   ]
  },
  {
   "cell_type": "code",
   "execution_count": null,
   "metadata": {},
   "outputs": [
    {
     "name": "stdout",
     "output_type": "stream",
     "text": [
      "RecistTarget(category='CR', current_mm=0, baseline_mm=25, baseline_pc_change=-100.0, nadir_mm=25, nadir_pc_change=-100.0, is_new_lesion=None, is_ln_pathological=False)\n"
     ]
    }
   ],
   "source": [
    "target3 = RecistTarget(\n",
    "    current_mm=0,\n",
    "    baseline_mm=25,\n",
    "    nadir_mm=25,\n",
    "    is_ln_pathological=False\n",
    ")\n",
    "print(target3) "
   ]
  },
  {
   "cell_type": "markdown",
   "metadata": {},
   "source": [
    "### PR"
   ]
  },
  {
   "cell_type": "code",
   "execution_count": null,
   "metadata": {},
   "outputs": [
    {
     "name": "stdout",
     "output_type": "stream",
     "text": [
      "RecistTarget(category='PR', current_mm=20, baseline_mm=40, baseline_pc_change=-50.0, nadir_mm=30, nadir_pc_change=-33.33333333333333, is_new_lesion=False, is_ln_pathological=None)\n"
     ]
    }
   ],
   "source": [
    "target4 = RecistTarget(\n",
    "    current_mm=20,\n",
    "    baseline_mm=40,\n",
    "    nadir_mm=30,\n",
    "    is_new_lesion=False\n",
    ")\n",
    "print(target4)"
   ]
  },
  {
   "cell_type": "markdown",
   "metadata": {},
   "source": [
    "### SD"
   ]
  },
  {
   "cell_type": "code",
   "execution_count": null,
   "metadata": {},
   "outputs": [
    {
     "name": "stdout",
     "output_type": "stream",
     "text": [
      "RecistTarget(category='SD', current_mm=28, baseline_mm=30, baseline_pc_change=-6.666666666666667, nadir_mm=28, nadir_pc_change=0.0, is_new_lesion=False, is_ln_pathological=None)\n"
     ]
    }
   ],
   "source": [
    "target5 = RecistTarget(\n",
    "    current_mm=28,\n",
    "    baseline_mm=30,\n",
    "    nadir_mm=28,\n",
    "    is_new_lesion=False\n",
    ")\n",
    "print(target5)"
   ]
  },
  {
   "cell_type": "markdown",
   "metadata": {},
   "source": [
    "### NE"
   ]
  },
  {
   "cell_type": "code",
   "execution_count": null,
   "metadata": {},
   "outputs": [
    {
     "name": "stdout",
     "output_type": "stream",
     "text": [
      "RecistTarget(category='NE', current_mm=None, baseline_mm=30, baseline_pc_change=None, nadir_mm=28, nadir_pc_change=None, is_new_lesion=False, is_ln_pathological=None)\n"
     ]
    }
   ],
   "source": [
    "target6 = RecistTarget(\n",
    "    current_mm=None,\n",
    "    baseline_mm=30,\n",
    "    nadir_mm=28,\n",
    "    is_new_lesion=False\n",
    ")\n",
    "print(target6)"
   ]
  },
  {
   "cell_type": "code",
   "execution_count": null,
   "metadata": {},
   "outputs": [],
   "source": [
    "#| hide\n",
    "import nbdev; nbdev.nbdev_export()"
   ]
  }
 ],
 "metadata": {
  "kernelspec": {
   "display_name": "python3",
   "language": "python",
   "name": "python3"
  }
 },
 "nbformat": 4,
 "nbformat_minor": 4
}
