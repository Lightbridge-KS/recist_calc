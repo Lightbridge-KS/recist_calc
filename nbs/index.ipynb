{
 "cells": [
  {
   "cell_type": "code",
   "execution_count": null,
   "metadata": {},
   "outputs": [],
   "source": [
    "#| hide\n",
    "from recist_calc.target import RecistTarget\n",
    "from recist_calc.nontarget import RecistNonTarget\n",
    "from recist_calc.timepoint import RecistTimePoint"
   ]
  },
  {
   "cell_type": "markdown",
   "metadata": {},
   "source": [
    "# RECIST v1.1 Calculator\n",
    "\n",
    "> A Python Package for Calculate RECIST1.1"
   ]
  },
  {
   "cell_type": "markdown",
   "metadata": {},
   "source": [
    "## Install"
   ]
  },
  {
   "cell_type": "markdown",
   "metadata": {},
   "source": [
    "```sh\n",
    "pip install recist_calc\n",
    "```"
   ]
  },
  {
   "cell_type": "markdown",
   "metadata": {},
   "source": [
    "## How to use"
   ]
  },
  {
   "cell_type": "code",
   "execution_count": null,
   "metadata": {},
   "outputs": [],
   "source": [
    "import recist_calc"
   ]
  },
  {
   "cell_type": "markdown",
   "metadata": {},
   "source": [
    "### Target Lesion Calculation"
   ]
  },
  {
   "cell_type": "code",
   "execution_count": null,
   "metadata": {},
   "outputs": [
    {
     "data": {
      "text/plain": [
       "RecistTarget(category='PD', current_mm=40, baseline_mm=30, baseline_pc_change=33.33333333333333, nadir_mm=30, nadir_pc_change=33.33333333333333, is_new_lesion=False, is_ln_pathological=None)"
      ]
     },
     "execution_count": null,
     "metadata": {},
     "output_type": "execute_result"
    }
   ],
   "source": [
    "target = RecistTarget(\n",
    "    current_mm=40,\n",
    "    baseline_mm=30,\n",
    "    nadir_mm=30,\n",
    "    is_new_lesion=False\n",
    ")\n",
    "\n",
    "target"
   ]
  },
  {
   "cell_type": "markdown",
   "metadata": {},
   "source": [
    "### Non-Target Lesion Calculation"
   ]
  },
  {
   "cell_type": "code",
   "execution_count": null,
   "metadata": {},
   "outputs": [
    {
     "data": {
      "text/plain": [
       "RecistNonTarget(category='Non-CR/Non-PD', unequivocal_progress=False, disappear_all=False, is_new_lesion=False, is_ln_pathological=True, is_tumor_mk_normalized=False)"
      ]
     },
     "execution_count": null,
     "metadata": {},
     "output_type": "execute_result"
    }
   ],
   "source": [
    "non_target = RecistNonTarget(\n",
    "    unequivocal_progress=False,\n",
    "    disappear_all=False,\n",
    "    is_new_lesion=False,\n",
    "    is_ln_pathological=True,\n",
    "    is_tumor_mk_normalized=False\n",
    ")\n",
    "non_target"
   ]
  },
  {
   "cell_type": "markdown",
   "metadata": {},
   "source": [
    "### Timepoint Evaluation"
   ]
  },
  {
   "cell_type": "code",
   "execution_count": null,
   "metadata": {},
   "outputs": [
    {
     "data": {
      "text/plain": [
       "RecistTimePoint(target=RecistTarget(category='PD', current_mm=40, baseline_mm=30, baseline_pc_change=33.33333333333333, nadir_mm=30, nadir_pc_change=33.33333333333333, is_new_lesion=False, is_ln_pathological=None), nontarget=RecistNonTarget(category='Non-CR/Non-PD', unequivocal_progress=False, disappear_all=False, is_new_lesion=False, is_ln_pathological=True, is_tumor_mk_normalized=False), is_new_lesion=False, category={'final': 'PD', 'target': 'PD', 'nontarget': 'Non-CR/Non-PD'})"
      ]
     },
     "execution_count": null,
     "metadata": {},
     "output_type": "execute_result"
    }
   ],
   "source": [
    "timepoint = RecistTimePoint(target=target, nontarget=non_target)\n",
    "timepoint"
   ]
  },
  {
   "cell_type": "code",
   "execution_count": null,
   "metadata": {},
   "outputs": [
    {
     "data": {
      "text/plain": [
       "{'target': RecistTarget(category='PD', current_mm=40, baseline_mm=30, baseline_pc_change=33.33333333333333, nadir_mm=30, nadir_pc_change=33.33333333333333, is_new_lesion=False, is_ln_pathological=None),\n",
       " 'nontarget': RecistNonTarget(category='Non-CR/Non-PD', unequivocal_progress=False, disappear_all=False, is_new_lesion=False, is_ln_pathological=True, is_tumor_mk_normalized=False),\n",
       " 'is_new_lesion': False,\n",
       " 'category': {'final': 'PD', 'target': 'PD', 'nontarget': 'Non-CR/Non-PD'}}"
      ]
     },
     "execution_count": null,
     "metadata": {},
     "output_type": "execute_result"
    }
   ],
   "source": [
    "timepoint.__dict__"
   ]
  }
 ],
 "metadata": {
  "kernelspec": {
   "display_name": "python3",
   "language": "python",
   "name": "python3"
  }
 },
 "nbformat": 4,
 "nbformat_minor": 4
}
