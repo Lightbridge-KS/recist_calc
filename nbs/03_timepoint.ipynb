{
 "cells": [
  {
   "cell_type": "markdown",
   "metadata": {},
   "source": [
    "# RECIST v1.1 Timepoint\n",
    "\n",
    "> Calculation of RECIST v1.1 Timepoint"
   ]
  },
  {
   "cell_type": "code",
   "execution_count": null,
   "metadata": {},
   "outputs": [],
   "source": [
    "#| default_exp timepoint"
   ]
  },
  {
   "cell_type": "code",
   "execution_count": null,
   "metadata": {},
   "outputs": [],
   "source": [
    "#| hide\n",
    "from nbdev.showdoc import *"
   ]
  },
  {
   "cell_type": "code",
   "execution_count": null,
   "metadata": {},
   "outputs": [],
   "source": [
    "#| export\n",
    "from dataclasses import dataclass, field\n",
    "from typing import Dict\n",
    "from recist_calc.target import RecistTarget\n",
    "from recist_calc.nontarget import RecistNonTarget"
   ]
  },
  {
   "cell_type": "markdown",
   "metadata": {},
   "source": [
    "## `RecistTimePoint` DataClass"
   ]
  },
  {
   "cell_type": "markdown",
   "metadata": {},
   "source": [
    "### Definition"
   ]
  },
  {
   "cell_type": "code",
   "execution_count": null,
   "metadata": {},
   "outputs": [],
   "source": [
    "#| export\n",
    "@dataclass\n",
    "class RecistTimePoint:\n",
    "    \"\"\"This class represents the RECIST (Response Evaluation Criteria in Solid Tumors) evaluation \n",
    "    for a specific time point, combining the assessments of target and non-target lesions.\n",
    "    \"\"\"\n",
    "    target: RecistTarget = field(default_factory=RecistTarget)\n",
    "    nontarget: RecistNonTarget = field(default_factory=RecistNonTarget)\n",
    "    is_new_lesion: bool = field(default= None)\n",
    "    category: Dict[str, str] = field(default_factory=dict, init=False)\n",
    "    \n",
    "    def __post_init__(self):\n",
    "        # Assign Categories\n",
    "        self.category = {\"final\": \"\", \"target\": self.target.category, \"nontarget\": self.nontarget.category}\n",
    "        # Override New Lesion\n",
    "        self.is_new_lesion = self.target.is_new_lesion or self.nontarget.is_new_lesion \n",
    "        # PD\n",
    "        if self.target.category == \"PD\" or self.nontarget.category == \"PD\" or self.is_new_lesion:\n",
    "            self.category[\"final\"] = \"PD\"\n",
    "        # CR\n",
    "        elif self.target.category == \"CR\" and self.nontarget.category == \"CR\":\n",
    "            self.category[\"final\"] = \"CR\"\n",
    "            \n",
    "        # PR\n",
    "        elif self.target.category == \"CR\" and self.nontarget.category in [\"Non-CR/Non-PD\", \"NE\"]:\n",
    "            self.category[\"final\"] = \"PR\"\n",
    "        elif self.target.category == \"PR\" and self.nontarget.category == \"Non-CR/Non-PD\":\n",
    "            self.category[\"final\"] = \"PR\"\n",
    "        # SD\n",
    "        elif self.target.category == \"SD\" and self.nontarget.category == \"Non-CR/Non-PD\":\n",
    "            self.category[\"final\"] = \"SD\"\n",
    "        # NE\n",
    "        elif self.target.category == \"NE\":\n",
    "            self.category[\"final\"] = \"NE\"\n",
    "        else:\n",
    "            # self.category[\"final\"] = \"-\"\n",
    "            raise NotImplementedError\n"
   ]
  },
  {
   "cell_type": "markdown",
   "metadata": {},
   "source": [
    "### Example"
   ]
  },
  {
   "cell_type": "markdown",
   "metadata": {},
   "source": [
    "#### Progressive Disease (PD) - Due to New Lesion\n",
    "\n",
    "**Scenario:** A new lesion has appeared, which indicates Progressive Disease (PD)."
   ]
  },
  {
   "cell_type": "code",
   "execution_count": null,
   "metadata": {},
   "outputs": [
    {
     "name": "stdout",
     "output_type": "stream",
     "text": [
      "{'final': 'PD', 'target': 'PD', 'nontarget': 'Non-CR/Non-PD'}\n"
     ]
    }
   ],
   "source": [
    "target = RecistTarget(current_mm=25, baseline_mm=20, is_new_lesion=True)\n",
    "nontarget = RecistNonTarget(unequivocal_progress=False)\n",
    "timepoint = RecistTimePoint(target=target, nontarget=nontarget)\n",
    "\n",
    "print(timepoint.category)"
   ]
  },
  {
   "cell_type": "markdown",
   "metadata": {},
   "source": [
    "#### Progressive Disease (PD) - Due to Increase from Nadir\n"
   ]
  },
  {
   "cell_type": "markdown",
   "metadata": {},
   "source": [
    "**Scenario:** The target lesion has increased in size by more than 20% from the nadir with an absolute increase of at least 5 mm, indicating PD."
   ]
  },
  {
   "cell_type": "code",
   "execution_count": null,
   "metadata": {},
   "outputs": [
    {
     "name": "stdout",
     "output_type": "stream",
     "text": [
      "{'final': 'PD', 'target': 'PD', 'nontarget': 'Non-CR/Non-PD'}\n"
     ]
    }
   ],
   "source": [
    "target = RecistTarget(current_mm=40, baseline_mm=30, nadir_mm=30)\n",
    "nontarget = RecistNonTarget(unequivocal_progress=False)\n",
    "timepoint = RecistTimePoint(target=target, nontarget=nontarget)\n",
    "print(timepoint.category)"
   ]
  },
  {
   "cell_type": "markdown",
   "metadata": {},
   "source": [
    "#### Complete Response (CR)"
   ]
  },
  {
   "cell_type": "markdown",
   "metadata": {},
   "source": [
    "**Scenario:** Both target and non-target lesions have disappeared, indicating Complete Response (CR)."
   ]
  },
  {
   "cell_type": "code",
   "execution_count": null,
   "metadata": {},
   "outputs": [
    {
     "name": "stdout",
     "output_type": "stream",
     "text": [
      "{'final': 'CR', 'target': 'CR', 'nontarget': 'CR'}\n"
     ]
    }
   ],
   "source": [
    "target = RecistTarget(current_mm=0, baseline_mm=25, is_ln_pathological=False)\n",
    "nontarget = RecistNonTarget(disappear_all=True, is_tumor_mk_normalized=True, is_ln_pathological=False)\n",
    "timepoint = RecistTimePoint(target=target, nontarget=nontarget)\n",
    "print(timepoint.category)  "
   ]
  },
  {
   "cell_type": "markdown",
   "metadata": {},
   "source": [
    "#### Partial Response (PR)\n",
    "\n",
    "**Scenario:** The target lesion has decreased in size by at least 30% from baseline, and the non-target lesion is stable, indicating Partial Response (PR)."
   ]
  },
  {
   "cell_type": "code",
   "execution_count": null,
   "metadata": {},
   "outputs": [
    {
     "name": "stdout",
     "output_type": "stream",
     "text": [
      "{'final': 'PR', 'target': 'PR', 'nontarget': 'Non-CR/Non-PD'}\n"
     ]
    }
   ],
   "source": [
    "target = RecistTarget(current_mm=15, baseline_mm=30)\n",
    "nontarget = RecistNonTarget(unequivocal_progress=False)\n",
    "timepoint = RecistTimePoint(target=target, nontarget=nontarget)\n",
    "print(timepoint.category) "
   ]
  },
  {
   "cell_type": "markdown",
   "metadata": {},
   "source": [
    "#### Stable Disease (SD)\n",
    "\n",
    "**Scenario:** The target lesion shows a minor decrease in size (less than 30% from baseline), and the non-target lesion is stable, indicating Stable Disease (SD)."
   ]
  },
  {
   "cell_type": "code",
   "execution_count": null,
   "metadata": {},
   "outputs": [
    {
     "name": "stdout",
     "output_type": "stream",
     "text": [
      "{'final': 'SD', 'target': 'SD', 'nontarget': 'Non-CR/Non-PD'}\n"
     ]
    }
   ],
   "source": [
    "target = RecistTarget(current_mm=28, baseline_mm=30)\n",
    "nontarget = RecistNonTarget(unequivocal_progress=False)\n",
    "timepoint = RecistTimePoint(target=target, nontarget=nontarget)\n",
    "print(timepoint.category)"
   ]
  },
  {
   "cell_type": "markdown",
   "metadata": {},
   "source": [
    "#### Not Evaluable (NE)\n",
    "\n",
    "**Scenario:** Insufficient data is available to evaluate the target lesion, so the time point is categorized as Not Evaluable (NE)."
   ]
  },
  {
   "cell_type": "code",
   "execution_count": null,
   "metadata": {},
   "outputs": [
    {
     "name": "stdout",
     "output_type": "stream",
     "text": [
      "{'final': 'NE', 'target': 'NE', 'nontarget': 'NE'}\n"
     ]
    }
   ],
   "source": [
    "target = RecistTarget(current_mm=None, baseline_mm=30)\n",
    "nontarget = RecistNonTarget(unequivocal_progress=None)\n",
    "timepoint = RecistTimePoint(target=target, nontarget=nontarget)\n",
    "print(timepoint.category)  \n"
   ]
  },
  {
   "cell_type": "code",
   "execution_count": null,
   "metadata": {},
   "outputs": [],
   "source": [
    "#| hide\n",
    "import nbdev; nbdev.nbdev_export()"
   ]
  }
 ],
 "metadata": {
  "kernelspec": {
   "display_name": "python3",
   "language": "python",
   "name": "python3"
  }
 },
 "nbformat": 4,
 "nbformat_minor": 4
}
