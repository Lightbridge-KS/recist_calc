{
 "cells": [
  {
   "cell_type": "markdown",
   "metadata": {},
   "source": [
    "# Non-Target Lesion\n",
    "\n",
    "> Class for Non-Target Lesion"
   ]
  },
  {
   "cell_type": "code",
   "execution_count": null,
   "metadata": {},
   "outputs": [],
   "source": [
    "#| default_exp nontarget"
   ]
  },
  {
   "cell_type": "code",
   "execution_count": null,
   "metadata": {},
   "outputs": [],
   "source": [
    "#| hide\n",
    "from nbdev.showdoc import *"
   ]
  },
  {
   "cell_type": "code",
   "execution_count": null,
   "metadata": {},
   "outputs": [],
   "source": [
    "#| export\n",
    "from dataclasses import dataclass, field"
   ]
  },
  {
   "cell_type": "markdown",
   "metadata": {},
   "source": [
    "## `RecistNonTarget` DataClass"
   ]
  },
  {
   "cell_type": "markdown",
   "metadata": {},
   "source": [
    "### Definition"
   ]
  },
  {
   "cell_type": "code",
   "execution_count": null,
   "metadata": {},
   "outputs": [],
   "source": [
    "#| export\n",
    "@dataclass\n",
    "class RecistNonTarget:\n",
    "    \"\"\"\n",
    "    This class represents the RECIST (Response Evaluation Criteria in Solid Tumors) evaluation \n",
    "    for non-target lesions in a given time point.\n",
    "    \"\"\"\n",
    "    category: str = field(init=False)\n",
    "    unequivocal_progress: bool = None\n",
    "    disappear_all: bool = None\n",
    "    is_new_lesion: bool = None\n",
    "    is_ln_pathological: bool = None\n",
    "    is_tumor_mk_normalized: bool = None\n",
    "    \n",
    "    def __post_init__(self):\n",
    "        # Check for \"Not Evaluable\" (NE) condition\n",
    "        if all(param is None for param in [self.unequivocal_progress, self.disappear_all, self.is_new_lesion]):\n",
    "            self.category = \"NE\"\n",
    "        elif self.unequivocal_progress or self.is_new_lesion:\n",
    "            self.category = \"PD\"\n",
    "        elif self.disappear_all and self.is_tumor_mk_normalized and not self.is_ln_pathological:\n",
    "            self.category = \"CR\"\n",
    "        else:\n",
    "            self.category = \"Non-CR/Non-PD\"\n"
   ]
  },
  {
   "cell_type": "markdown",
   "metadata": {},
   "source": [
    "### Examples"
   ]
  },
  {
   "cell_type": "markdown",
   "metadata": {},
   "source": [
    "#### PD"
   ]
  },
  {
   "cell_type": "code",
   "execution_count": null,
   "metadata": {},
   "outputs": [
    {
     "name": "stdout",
     "output_type": "stream",
     "text": [
      "RecistNonTarget(category='PD', unequivocal_progress=True, disappear_all=False, is_new_lesion=False, is_ln_pathological=True, is_tumor_mk_normalized=False)\n",
      "RecistNonTarget(category='PD', unequivocal_progress=False, disappear_all=False, is_new_lesion=True, is_ln_pathological=True, is_tumor_mk_normalized=False)\n"
     ]
    }
   ],
   "source": [
    "non_target1 = RecistNonTarget(\n",
    "    unequivocal_progress=True,\n",
    "    disappear_all=False,\n",
    "    is_new_lesion=False,\n",
    "    is_ln_pathological=True,\n",
    "    is_tumor_mk_normalized=False\n",
    ")\n",
    "print(non_target1)  \n",
    "\n",
    "non_target2 = RecistNonTarget(\n",
    "    unequivocal_progress=False,\n",
    "    disappear_all=False,\n",
    "    is_new_lesion=True,\n",
    "    is_ln_pathological=True,\n",
    "    is_tumor_mk_normalized=False\n",
    ")\n",
    "print(non_target2)  "
   ]
  },
  {
   "cell_type": "markdown",
   "metadata": {},
   "source": [
    "#### CR"
   ]
  },
  {
   "cell_type": "code",
   "execution_count": null,
   "metadata": {},
   "outputs": [
    {
     "name": "stdout",
     "output_type": "stream",
     "text": [
      "RecistNonTarget(category='CR', unequivocal_progress=False, disappear_all=True, is_new_lesion=False, is_ln_pathological=False, is_tumor_mk_normalized=True)\n"
     ]
    }
   ],
   "source": [
    "non_target3 = RecistNonTarget(\n",
    "    unequivocal_progress=False,\n",
    "    disappear_all=True,\n",
    "    is_new_lesion=False,\n",
    "    is_ln_pathological=False,\n",
    "    is_tumor_mk_normalized=True\n",
    ")\n",
    "print(non_target3)  # Expected Output: \"CR\""
   ]
  },
  {
   "cell_type": "markdown",
   "metadata": {},
   "source": [
    "#### Non-CR/Non-PD"
   ]
  },
  {
   "cell_type": "code",
   "execution_count": null,
   "metadata": {},
   "outputs": [
    {
     "name": "stdout",
     "output_type": "stream",
     "text": [
      "RecistNonTarget(category='Non-CR/Non-PD', unequivocal_progress=False, disappear_all=False, is_new_lesion=False, is_ln_pathological=True, is_tumor_mk_normalized=False)\n"
     ]
    }
   ],
   "source": [
    "non_target4 = RecistNonTarget(\n",
    "    unequivocal_progress=False,\n",
    "    disappear_all=False,\n",
    "    is_new_lesion=False,\n",
    "    is_ln_pathological=True,\n",
    "    is_tumor_mk_normalized=False\n",
    ")\n",
    "print(non_target4)  # Expected Output: \"Non-CR/Non-PD\""
   ]
  },
  {
   "cell_type": "markdown",
   "metadata": {},
   "source": [
    "#### NE"
   ]
  },
  {
   "cell_type": "code",
   "execution_count": null,
   "metadata": {},
   "outputs": [
    {
     "name": "stdout",
     "output_type": "stream",
     "text": [
      "RecistNonTarget(category='NE', unequivocal_progress=None, disappear_all=None, is_new_lesion=None, is_ln_pathological=None, is_tumor_mk_normalized=None)\n"
     ]
    }
   ],
   "source": [
    "non_target5 = RecistNonTarget(\n",
    "    unequivocal_progress=None,\n",
    "    disappear_all=None,\n",
    "    is_new_lesion=None,\n",
    "    is_ln_pathological=None,\n",
    "    is_tumor_mk_normalized=None\n",
    ")\n",
    "print(non_target5)  # Expected Output: \"NE\"\n"
   ]
  },
  {
   "cell_type": "code",
   "execution_count": null,
   "metadata": {},
   "outputs": [],
   "source": [
    "#| hide\n",
    "import nbdev; nbdev.nbdev_export()"
   ]
  }
 ],
 "metadata": {
  "kernelspec": {
   "display_name": "python3",
   "language": "python",
   "name": "python3"
  }
 },
 "nbformat": 4,
 "nbformat_minor": 4
}
